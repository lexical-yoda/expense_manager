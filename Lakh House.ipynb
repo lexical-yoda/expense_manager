{
 "cells": [
  {
   "cell_type": "markdown",
   "metadata": {},
   "source": [
    "# Expense Manager"
   ]
  },
  {
   "cell_type": "markdown",
   "metadata": {},
   "source": [
    "## Importing Libraries "
   ]
  },
  {
   "cell_type": "code",
   "execution_count": 1,
   "metadata": {},
   "outputs": [],
   "source": [
    "import pygsheets\n",
    "import pydrive\n",
    "import pandas as pd\n",
    "import matplotlib.pyplot as plt\n",
    "import matplotlib\n",
    "matplotlib.rcParams['figure.figsize'] = (20.0, 15.0)"
   ]
  },
  {
   "cell_type": "code",
   "execution_count": 2,
   "metadata": {},
   "outputs": [],
   "source": [
    "gc = pygsheets.authorize(service_file='sheets-b4a2e84afc87.json')\n",
    "sh = gc.open_by_url('https://docs.google.com/spreadsheets/d/1g7MaNS74UR86VXFnaaIEDrBskKfJ-2tBx_100zAK_oo/edit#gid=0')"
   ]
  },
  {
   "cell_type": "markdown",
   "metadata": {},
   "source": [
    "## Data Processing"
   ]
  },
  {
   "cell_type": "code",
   "execution_count": 3,
   "metadata": {
    "scrolled": true
   },
   "outputs": [],
   "source": [
    "data = sh[0].get_as_df()"
   ]
  },
  {
   "cell_type": "code",
   "execution_count": 4,
   "metadata": {},
   "outputs": [
    {
     "ename": "TypeError",
     "evalue": "must be str, not int",
     "output_type": "error",
     "traceback": [
      "\u001b[0;31m---------------------------------------------------------------------------\u001b[0m",
      "\u001b[0;31mTypeError\u001b[0m                                 Traceback (most recent call last)",
      "\u001b[0;32m<ipython-input-4-b1a65f98d931>\u001b[0m in \u001b[0;36m<module>\u001b[0;34m\u001b[0m\n\u001b[1;32m      1\u001b[0m \u001b[0mdays\u001b[0m \u001b[0;34m=\u001b[0m \u001b[0mdata\u001b[0m\u001b[0;34m[\u001b[0m\u001b[0;34m'Date'\u001b[0m\u001b[0;34m]\u001b[0m\u001b[0;34m.\u001b[0m\u001b[0mnunique\u001b[0m\u001b[0;34m(\u001b[0m\u001b[0;34m)\u001b[0m\u001b[0;34m\u001b[0m\u001b[0;34m\u001b[0m\u001b[0m\n\u001b[0;32m----> 2\u001b[0;31m \u001b[0mgross_expense\u001b[0m \u001b[0;34m=\u001b[0m \u001b[0mdata\u001b[0m\u001b[0;34m[\u001b[0m\u001b[0;34m'Total Amount'\u001b[0m\u001b[0;34m]\u001b[0m\u001b[0;34m.\u001b[0m\u001b[0msum\u001b[0m\u001b[0;34m(\u001b[0m\u001b[0;34m)\u001b[0m\u001b[0;34m\u001b[0m\u001b[0;34m\u001b[0m\u001b[0m\n\u001b[0m\u001b[1;32m      3\u001b[0m \u001b[0mgross_per_person\u001b[0m \u001b[0;34m=\u001b[0m \u001b[0mdata\u001b[0m\u001b[0;34m[\u001b[0m\u001b[0;34m'Per Person'\u001b[0m\u001b[0;34m]\u001b[0m\u001b[0;34m.\u001b[0m\u001b[0msum\u001b[0m\u001b[0;34m(\u001b[0m\u001b[0;34m)\u001b[0m\u001b[0;34m\u001b[0m\u001b[0;34m\u001b[0m\u001b[0m\n",
      "\u001b[0;32m~/.local/lib/python3.6/site-packages/pandas/core/generic.py\u001b[0m in \u001b[0;36mstat_func\u001b[0;34m(self, axis, skipna, level, numeric_only, min_count, **kwargs)\u001b[0m\n\u001b[1;32m  11180\u001b[0m             \u001b[0mskipna\u001b[0m\u001b[0;34m=\u001b[0m\u001b[0mskipna\u001b[0m\u001b[0;34m,\u001b[0m\u001b[0;34m\u001b[0m\u001b[0;34m\u001b[0m\u001b[0m\n\u001b[1;32m  11181\u001b[0m             \u001b[0mnumeric_only\u001b[0m\u001b[0;34m=\u001b[0m\u001b[0mnumeric_only\u001b[0m\u001b[0;34m,\u001b[0m\u001b[0;34m\u001b[0m\u001b[0;34m\u001b[0m\u001b[0m\n\u001b[0;32m> 11182\u001b[0;31m             \u001b[0mmin_count\u001b[0m\u001b[0;34m=\u001b[0m\u001b[0mmin_count\u001b[0m\u001b[0;34m,\u001b[0m\u001b[0;34m\u001b[0m\u001b[0;34m\u001b[0m\u001b[0m\n\u001b[0m\u001b[1;32m  11183\u001b[0m         )\n\u001b[1;32m  11184\u001b[0m \u001b[0;34m\u001b[0m\u001b[0m\n",
      "\u001b[0;32m~/.local/lib/python3.6/site-packages/pandas/core/series.py\u001b[0m in \u001b[0;36m_reduce\u001b[0;34m(self, op, name, axis, skipna, numeric_only, filter_type, **kwds)\u001b[0m\n\u001b[1;32m   3889\u001b[0m                 )\n\u001b[1;32m   3890\u001b[0m             \u001b[0;32mwith\u001b[0m \u001b[0mnp\u001b[0m\u001b[0;34m.\u001b[0m\u001b[0merrstate\u001b[0m\u001b[0;34m(\u001b[0m\u001b[0mall\u001b[0m\u001b[0;34m=\u001b[0m\u001b[0;34m\"ignore\"\u001b[0m\u001b[0;34m)\u001b[0m\u001b[0;34m:\u001b[0m\u001b[0;34m\u001b[0m\u001b[0;34m\u001b[0m\u001b[0m\n\u001b[0;32m-> 3891\u001b[0;31m                 \u001b[0;32mreturn\u001b[0m \u001b[0mop\u001b[0m\u001b[0;34m(\u001b[0m\u001b[0mdelegate\u001b[0m\u001b[0;34m,\u001b[0m \u001b[0mskipna\u001b[0m\u001b[0;34m=\u001b[0m\u001b[0mskipna\u001b[0m\u001b[0;34m,\u001b[0m \u001b[0;34m**\u001b[0m\u001b[0mkwds\u001b[0m\u001b[0;34m)\u001b[0m\u001b[0;34m\u001b[0m\u001b[0;34m\u001b[0m\u001b[0m\n\u001b[0m\u001b[1;32m   3892\u001b[0m \u001b[0;34m\u001b[0m\u001b[0m\n\u001b[1;32m   3893\u001b[0m         \u001b[0;31m# TODO(EA) dispatch to Index\u001b[0m\u001b[0;34m\u001b[0m\u001b[0;34m\u001b[0m\u001b[0;34m\u001b[0m\u001b[0m\n",
      "\u001b[0;32m~/.local/lib/python3.6/site-packages/pandas/core/nanops.py\u001b[0m in \u001b[0;36m_f\u001b[0;34m(*args, **kwargs)\u001b[0m\n\u001b[1;32m     67\u001b[0m             \u001b[0;32mtry\u001b[0m\u001b[0;34m:\u001b[0m\u001b[0;34m\u001b[0m\u001b[0;34m\u001b[0m\u001b[0m\n\u001b[1;32m     68\u001b[0m                 \u001b[0;32mwith\u001b[0m \u001b[0mnp\u001b[0m\u001b[0;34m.\u001b[0m\u001b[0merrstate\u001b[0m\u001b[0;34m(\u001b[0m\u001b[0minvalid\u001b[0m\u001b[0;34m=\u001b[0m\u001b[0;34m\"ignore\"\u001b[0m\u001b[0;34m)\u001b[0m\u001b[0;34m:\u001b[0m\u001b[0;34m\u001b[0m\u001b[0;34m\u001b[0m\u001b[0m\n\u001b[0;32m---> 69\u001b[0;31m                     \u001b[0;32mreturn\u001b[0m \u001b[0mf\u001b[0m\u001b[0;34m(\u001b[0m\u001b[0;34m*\u001b[0m\u001b[0margs\u001b[0m\u001b[0;34m,\u001b[0m \u001b[0;34m**\u001b[0m\u001b[0mkwargs\u001b[0m\u001b[0;34m)\u001b[0m\u001b[0;34m\u001b[0m\u001b[0;34m\u001b[0m\u001b[0m\n\u001b[0m\u001b[1;32m     70\u001b[0m             \u001b[0;32mexcept\u001b[0m \u001b[0mValueError\u001b[0m \u001b[0;32mas\u001b[0m \u001b[0me\u001b[0m\u001b[0;34m:\u001b[0m\u001b[0;34m\u001b[0m\u001b[0;34m\u001b[0m\u001b[0m\n\u001b[1;32m     71\u001b[0m                 \u001b[0;31m# we want to transform an object array\u001b[0m\u001b[0;34m\u001b[0m\u001b[0;34m\u001b[0m\u001b[0;34m\u001b[0m\u001b[0m\n",
      "\u001b[0;32m~/.local/lib/python3.6/site-packages/pandas/core/nanops.py\u001b[0m in \u001b[0;36mnansum\u001b[0;34m(values, axis, skipna, min_count, mask)\u001b[0m\n\u001b[1;32m    491\u001b[0m     \u001b[0;32melif\u001b[0m \u001b[0mis_timedelta64_dtype\u001b[0m\u001b[0;34m(\u001b[0m\u001b[0mdtype\u001b[0m\u001b[0;34m)\u001b[0m\u001b[0;34m:\u001b[0m\u001b[0;34m\u001b[0m\u001b[0;34m\u001b[0m\u001b[0m\n\u001b[1;32m    492\u001b[0m         \u001b[0mdtype_sum\u001b[0m \u001b[0;34m=\u001b[0m \u001b[0mnp\u001b[0m\u001b[0;34m.\u001b[0m\u001b[0mfloat64\u001b[0m\u001b[0;34m\u001b[0m\u001b[0;34m\u001b[0m\u001b[0m\n\u001b[0;32m--> 493\u001b[0;31m     \u001b[0mthe_sum\u001b[0m \u001b[0;34m=\u001b[0m \u001b[0mvalues\u001b[0m\u001b[0;34m.\u001b[0m\u001b[0msum\u001b[0m\u001b[0;34m(\u001b[0m\u001b[0maxis\u001b[0m\u001b[0;34m,\u001b[0m \u001b[0mdtype\u001b[0m\u001b[0;34m=\u001b[0m\u001b[0mdtype_sum\u001b[0m\u001b[0;34m)\u001b[0m\u001b[0;34m\u001b[0m\u001b[0;34m\u001b[0m\u001b[0m\n\u001b[0m\u001b[1;32m    494\u001b[0m     \u001b[0mthe_sum\u001b[0m \u001b[0;34m=\u001b[0m \u001b[0m_maybe_null_out\u001b[0m\u001b[0;34m(\u001b[0m\u001b[0mthe_sum\u001b[0m\u001b[0;34m,\u001b[0m \u001b[0maxis\u001b[0m\u001b[0;34m,\u001b[0m \u001b[0mmask\u001b[0m\u001b[0;34m,\u001b[0m \u001b[0mvalues\u001b[0m\u001b[0;34m.\u001b[0m\u001b[0mshape\u001b[0m\u001b[0;34m,\u001b[0m \u001b[0mmin_count\u001b[0m\u001b[0;34m=\u001b[0m\u001b[0mmin_count\u001b[0m\u001b[0;34m)\u001b[0m\u001b[0;34m\u001b[0m\u001b[0;34m\u001b[0m\u001b[0m\n\u001b[1;32m    495\u001b[0m \u001b[0;34m\u001b[0m\u001b[0m\n",
      "\u001b[0;32m~/.local/lib/python3.6/site-packages/numpy/core/_methods.py\u001b[0m in \u001b[0;36m_sum\u001b[0;34m(a, axis, dtype, out, keepdims, initial, where)\u001b[0m\n\u001b[1;32m     36\u001b[0m def _sum(a, axis=None, dtype=None, out=None, keepdims=False,\n\u001b[1;32m     37\u001b[0m          initial=_NoValue, where=True):\n\u001b[0;32m---> 38\u001b[0;31m     \u001b[0;32mreturn\u001b[0m \u001b[0mumr_sum\u001b[0m\u001b[0;34m(\u001b[0m\u001b[0ma\u001b[0m\u001b[0;34m,\u001b[0m \u001b[0maxis\u001b[0m\u001b[0;34m,\u001b[0m \u001b[0mdtype\u001b[0m\u001b[0;34m,\u001b[0m \u001b[0mout\u001b[0m\u001b[0;34m,\u001b[0m \u001b[0mkeepdims\u001b[0m\u001b[0;34m,\u001b[0m \u001b[0minitial\u001b[0m\u001b[0;34m,\u001b[0m \u001b[0mwhere\u001b[0m\u001b[0;34m)\u001b[0m\u001b[0;34m\u001b[0m\u001b[0;34m\u001b[0m\u001b[0m\n\u001b[0m\u001b[1;32m     39\u001b[0m \u001b[0;34m\u001b[0m\u001b[0m\n\u001b[1;32m     40\u001b[0m def _prod(a, axis=None, dtype=None, out=None, keepdims=False,\n",
      "\u001b[0;31mTypeError\u001b[0m: must be str, not int"
     ]
    }
   ],
   "source": [
    "days = data['Date'].nunique()\n",
    "gross_expense = data['Total Amount'].sum()\n",
    "gross_per_person = data['Per Person'].sum()"
   ]
  },
  {
   "cell_type": "code",
   "execution_count": null,
   "metadata": {},
   "outputs": [],
   "source": [
    "#Converting into Integer\n",
    "numeric_columns = ['No. of Shares','Quantity/Number','Total Amount','Per Person']\n",
    "for column_name in numeric_columns:\n",
    "    data[column_name] = data[column_name].astype(float)"
   ]
  },
  {
   "cell_type": "markdown",
   "metadata": {},
   "source": [
    "## Data Analysis"
   ]
  },
  {
   "cell_type": "code",
   "execution_count": null,
   "metadata": {
    "scrolled": true
   },
   "outputs": [],
   "source": [
    "#Day wise analysis\n",
    "data_per_day = pd.DataFrame(columns=['Date','Total Amount','Per Person'])\n",
    "for date in data['Date'].unique():\n",
    "    daily_data = data[data['Date'] == date]\n",
    "    total_amount = daily_data['Total Amount'].sum()\n",
    "    total_per_person = daily_data['Per Person'].sum()\n",
    "    data_per_day = data_per_day.append({'Date': date, 'Total Amount': total_amount,'Per Person': total_per_person},ignore_index=True)\n",
    "# data_per_day"
   ]
  },
  {
   "cell_type": "code",
   "execution_count": null,
   "metadata": {
    "scrolled": false
   },
   "outputs": [],
   "source": [
    "#Item wise analysis\n",
    "item_data = pd.DataFrame(columns=['Item','Frequency','Frequency/Days','Quantity','Quantity/Days','Total Amount','Per Person','Per Person/Days'])\n",
    "for items in data.Item.unique():\n",
    "    items_data = data[data['Item'] == items]\n",
    "    frequency = items_data.shape[0]\n",
    "    quantity = items_data['Quantity/Number'].sum()\n",
    "    per_person_total = items_data['Per Person'].sum()\n",
    "    total_amount = items_data['Total Amount'].sum()\n",
    "    item_data = item_data.append({'Item':items,'Frequency': frequency,'Frequency/Days': frequency/days,'Quantity': quantity,'Quantity/Days': quantity/days,'Total Amount': total_amount,'Per Person': per_person_total,'Per Person/Days': per_person_total/days},ignore_index=True)\n",
    "# item_data.sort_values(by=['Total Amount'])"
   ]
  },
  {
   "cell_type": "code",
   "execution_count": null,
   "metadata": {},
   "outputs": [],
   "source": [
    "#Inserting the dataframes into GoogleSheet\n",
    "sh[1].set_dataframe(data_per_day.round(2),'J2')\n",
    "sh[1].set_dataframe(item_data.sort_values(by=['Total Amount']).round(2),'A2')\n",
    "sh[1].cell('O3').set_value(days)\n",
    "sh[1].cell('O4').set_value(round(gross_expense,2))\n",
    "sh[1].cell('O5').set_value(round(gross_per_person,2))\n",
    "sh[1].cell('O6').set_value(round(gross_per_person/days,2))"
   ]
  },
  {
   "cell_type": "markdown",
   "metadata": {},
   "source": [
    "## Plotting"
   ]
  },
  {
   "cell_type": "code",
   "execution_count": null,
   "metadata": {},
   "outputs": [],
   "source": [
    "data_processed = sh[1].get_as_df()"
   ]
  },
  {
   "cell_type": "code",
   "execution_count": null,
   "metadata": {},
   "outputs": [],
   "source": [
    "def gen_perday_values(df_column,if_int):\n",
    "    holder_list = list()\n",
    "    for value in df_column:\n",
    "        if value != None:\n",
    "            if if_int:\n",
    "                holder_list.append(int(value))\n",
    "            else:\n",
    "                holder_list.append(value)\n",
    "    holder_list.reverse()\n",
    "    return holder_list"
   ]
  },
  {
   "cell_type": "code",
   "execution_count": null,
   "metadata": {},
   "outputs": [],
   "source": [
    "def gen_moving_avg(list_values):\n",
    "    holder_list = list()\n",
    "    n = 1\n",
    "    total = 0\n",
    "    for value in list_values:\n",
    "        total += value\n",
    "        avg = total/n\n",
    "        holder_list.append(avg)\n",
    "        n += 1\n",
    "    return holder_list"
   ]
  },
  {
   "cell_type": "code",
   "execution_count": null,
   "metadata": {},
   "outputs": [],
   "source": [
    "dates = gen_perday_values(data_processed.iloc[1:,9],0)\n",
    "TPD = gen_perday_values(data_processed.iloc[1:,10],1)\n",
    "TPP = gen_perday_values(data_processed.iloc[1:,11],1)\n",
    "TPD_avg = gen_moving_avg(TPD)\n",
    "TPP_avg = gen_moving_avg(TPP)"
   ]
  },
  {
   "cell_type": "code",
   "execution_count": null,
   "metadata": {},
   "outputs": [],
   "source": [
    "fig = plt.figure()\n",
    "ax = fig.add_subplot(111)\n",
    "values = TPD\n",
    "labels = dates\n",
    "\n",
    "plt.plot(labels, values,color='orange')\n",
    "plt.plot(TPD_avg,color='r')\n",
    "\n",
    "for i, v in enumerate(values):\n",
    "    ax.text(i, v+15, \"%d\" %v, ha=\"center\",fontsize=13)\n",
    "# plt.ylim(-10, 595)\n",
    "\n",
    "for i, v in enumerate(TPD_avg):\n",
    "    ax.text(i, v+15, \"%d\" %v, ha=\"center\",fontsize=13)\n",
    "# plt.ylim(-10, 595)\n",
    "\n",
    "plt.title('Total Per Day Expense',pad=10,fontsize=20)\n",
    "plt.xlabel('Dates',fontsize=15)\n",
    "plt.ylabel('Amount',fontsize=15)\n",
    "plt.xticks(rotation=45,fontsize=13)\n",
    "plt.yticks(fontsize=13)\n",
    "plt.grid(True)\n",
    "daily_line = matplotlib.patches.Patch(color='orange', label='Daily Values')\n",
    "avg_line = matplotlib.patches.Patch(color='red', label='Moving Average')\n",
    "plt.legend(handles=[daily_line,avg_line],fontsize=13,loc=2)\n",
    "plt.savefig('./TPD.png')\n",
    "plt.show()"
   ]
  },
  {
   "cell_type": "code",
   "execution_count": null,
   "metadata": {
    "scrolled": false
   },
   "outputs": [],
   "source": [
    "fig = plt.figure()\n",
    "ax = fig.add_subplot(111)\n",
    "values = TPP\n",
    "labels = dates\n",
    "\n",
    "plt.plot(labels, values,color='orange')\n",
    "plt.plot(TPP_avg,color='red')\n",
    "\n",
    "for i, v in enumerate(values):\n",
    "    ax.text(i, v+15, \"%d\" %v, ha=\"center\",fontsize=13)\n",
    "plt.ylim(-10, 595)\n",
    "\n",
    "for i, v in enumerate(TPP_avg):\n",
    "    ax.text(i, v+15, \"%d\" %v, ha=\"center\",fontsize=13)\n",
    "plt.ylim(-10, 595)\n",
    "\n",
    "plt.title('Total Per Person Expense',pad=10,fontsize=20)\n",
    "daily_line = matplotlib.patches.Patch(color='orange', label='Daily Values')\n",
    "avg_line = matplotlib.patches.Patch(color='red', label='Moving Average')\n",
    "plt.legend(handles=[daily_line,avg_line],fontsize=13,loc=2)\n",
    "plt.grid(True)\n",
    "plt.xlabel('Dates',fontsize=15)\n",
    "plt.ylabel('Amount',fontsize=15)\n",
    "plt.xticks(rotation=45,fontsize=13)\n",
    "plt.yticks(fontsize=13)\n",
    "plt.savefig('./TPP.png')\n",
    "plt.show()"
   ]
  },
  {
   "cell_type": "code",
   "execution_count": null,
   "metadata": {},
   "outputs": [],
   "source": [
    "Others_df = pd.DataFrame(item_data.sort_values(by=['Total Amount']).iloc[0:-10,:].sum()).T\n",
    "Others_df['Item'][0] = 'Others'\n",
    "top_10_df = item_data.sort_values(by=['Total Amount']).iloc[-10:]\n",
    "top_10_df = top_10_df.append(Others_df)"
   ]
  },
  {
   "cell_type": "code",
   "execution_count": null,
   "metadata": {},
   "outputs": [],
   "source": [
    "top_10_df.sort_values(by=['Total Amount']).iloc[-10:].set_index(top_10_df.sort_values(by=['Total Amount']).iloc[-10:]['Item']).plot.pie(y='Total Amount',legend=None,autopct='%1.0f%%',pctdistance=0.9,fontsize=15)\n",
    "plt.title('Top 10 Items',fontsize=20)\n",
    "plt.savefig('./top_10_pie.png')\n",
    "plt.show()"
   ]
  }
 ],
 "metadata": {
  "kernelspec": {
   "display_name": "Python 3",
   "language": "python",
   "name": "python3"
  },
  "language_info": {
   "codemirror_mode": {
    "name": "ipython",
    "version": 3
   },
   "file_extension": ".py",
   "mimetype": "text/x-python",
   "name": "python",
   "nbconvert_exporter": "python",
   "pygments_lexer": "ipython3",
   "version": "3.6.9"
  }
 },
 "nbformat": 4,
 "nbformat_minor": 4
}
